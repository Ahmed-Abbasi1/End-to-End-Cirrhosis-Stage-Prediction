{
 "cells": [
  {
   "cell_type": "code",
   "execution_count": 5,
   "id": "3aa22102",
   "metadata": {},
   "outputs": [
    {
     "name": "stderr",
     "output_type": "stream",
     "text": [
      "2025/06/15 15:36:48 WARNING mlflow.models.model: `artifact_path` is deprecated. Please use `name` instead.\n",
      "2025/06/15 15:36:58 WARNING mlflow.models.model: Model logged without a signature and input example. Please set `input_example` parameter when logging the model to auto infer the model signature.\n"
     ]
    },
    {
     "name": "stdout",
     "output_type": "stream",
     "text": [
      "LogisticRegression → Accuracy: 0.50, Precision: 0.44, Recall: 0.43, F1: 0.43\n"
     ]
    },
    {
     "name": "stderr",
     "output_type": "stream",
     "text": [
      "2025/06/15 15:36:59 WARNING mlflow.models.model: `artifact_path` is deprecated. Please use `name` instead.\n",
      "2025/06/15 15:37:08 WARNING mlflow.models.model: Model logged without a signature and input example. Please set `input_example` parameter when logging the model to auto infer the model signature.\n"
     ]
    },
    {
     "name": "stdout",
     "output_type": "stream",
     "text": [
      "RandomForest → Accuracy: 0.46, Precision: 0.29, Recall: 0.31, F1: 0.29\n"
     ]
    },
    {
     "name": "stderr",
     "output_type": "stream",
     "text": [
      "d:\\University\\Semester 06\\Big Data Analytics\\Semester Theory Project\\BIgDataFinalProject\\venv\\Lib\\site-packages\\xgboost\\training.py:183: UserWarning: [15:37:08] WARNING: C:\\actions-runner\\_work\\xgboost\\xgboost\\src\\learner.cc:738: \n",
      "Parameters: { \"use_label_encoder\" } are not used.\n",
      "\n",
      "  bst.update(dtrain, iteration=i, fobj=obj)\n",
      "2025/06/15 15:37:09 WARNING mlflow.models.model: `artifact_path` is deprecated. Please use `name` instead.\n",
      "2025/06/15 15:37:17 WARNING mlflow.models.model: Model logged without a signature and input example. Please set `input_example` parameter when logging the model to auto infer the model signature.\n"
     ]
    },
    {
     "name": "stdout",
     "output_type": "stream",
     "text": [
      "XGBoost → Accuracy: 0.48, Precision: 0.57, Recall: 0.41, F1: 0.44\n",
      "\n",
      "✅ Best model: XGBoost | Features: 15\n",
      "✅ Saved to ../models/best_model.pkl\n"
     ]
    }
   ],
   "source": [
    "import pandas as pd\n",
    "import joblib\n",
    "import mlflow\n",
    "import mlflow.sklearn\n",
    "from sklearn.preprocessing import LabelEncoder, StandardScaler\n",
    "from sklearn.model_selection import train_test_split\n",
    "from sklearn.metrics import accuracy_score, precision_score, recall_score, f1_score\n",
    "from sklearn.linear_model import LogisticRegression\n",
    "from sklearn.ensemble import RandomForestClassifier\n",
    "from xgboost import XGBClassifier\n",
    "\n",
    "# --------------------------------------------\n",
    "# STEP 1: Load and clean the raw dataset\n",
    "# --------------------------------------------\n",
    "df = pd.read_csv('../data/cirrhosis.csv')\n",
    "\n",
    "# Drop ID column if exists\n",
    "if 'ID' in df.columns:\n",
    "    df.drop(columns=['ID'], inplace=True)\n",
    "\n",
    "# Handle missing numeric values\n",
    "for col in df.select_dtypes(include=['float64', 'int64']).columns:\n",
    "    df[col] = df[col].fillna(df[col].median())\n",
    "\n",
    "# Handle missing categorical values and encode\n",
    "for col in df.select_dtypes(include=['object']).columns:\n",
    "    df[col] = df[col].fillna(df[col].mode()[0])\n",
    "    df[col] = LabelEncoder().fit_transform(df[col])\n",
    "\n",
    "# Make sure Stage is integer\n",
    "df['Stage'] = df['Stage'].astype(int)\n",
    "\n",
    "# --------------------------------------------\n",
    "# STEP 2: Define features (15 only) and target\n",
    "# --------------------------------------------\n",
    "\n",
    "# These are the 15 features your FastAPI is expecting\n",
    "feature_cols = [\n",
    "    'Age', 'Sex', 'Ascites', 'Hepatomegaly', 'Spiders',\n",
    "    'Edema', 'Bilirubin', 'Cholesterol', 'Albumin',\n",
    "    'Copper', 'Alk_Phos', 'SGOT', 'Tryglicerides',\n",
    "    'Platelets', 'Prothrombin'\n",
    "]\n",
    "\n",
    "X = df[feature_cols]\n",
    "y = df['Stage'] - 1  # Shift to 0-based labels: [0, 1, 2, 3]\n",
    "\n",
    "# --------------------------------------------\n",
    "# STEP 3: Standardize and split\n",
    "# --------------------------------------------\n",
    "scaler = StandardScaler()\n",
    "X_scaled = scaler.fit_transform(X)\n",
    "\n",
    "X_train, X_test, y_train, y_test = train_test_split(X_scaled, y, test_size=0.2, random_state=42)\n",
    "\n",
    "# --------------------------------------------\n",
    "# STEP 4: Define models\n",
    "# --------------------------------------------\n",
    "models = {\n",
    "    \"LogisticRegression\": LogisticRegression(max_iter=1000),\n",
    "    \"RandomForest\": RandomForestClassifier(n_estimators=150, max_depth=12, random_state=42),\n",
    "    \"XGBoost\": XGBClassifier(use_label_encoder=False, eval_metric='mlogloss', max_depth=8, n_estimators=150)\n",
    "}\n",
    "\n",
    "mlflow.set_experiment(\"Cirrhosis-Prediction-Experiment\")\n",
    "\n",
    "best_model = None\n",
    "best_name = None\n",
    "best_f1 = 0\n",
    "\n",
    "# --------------------------------------------\n",
    "# STEP 5: Train and evaluate each model\n",
    "# --------------------------------------------\n",
    "for name, model in models.items():\n",
    "    with mlflow.start_run(run_name=name):\n",
    "        model.fit(X_train, y_train)\n",
    "        preds = model.predict(X_test)\n",
    "\n",
    "        acc = accuracy_score(y_test, preds)\n",
    "        prec = precision_score(y_test, preds, average='macro', zero_division=0)\n",
    "        rec = recall_score(y_test, preds, average='macro', zero_division=0)\n",
    "        f1 = f1_score(y_test, preds, average='macro', zero_division=0)\n",
    "\n",
    "        mlflow.log_param(\"model_name\", name)\n",
    "        mlflow.log_metrics({\n",
    "            \"accuracy\": acc,\n",
    "            \"precision\": prec,\n",
    "            \"recall\": rec,\n",
    "            \"f1_score\": f1\n",
    "        })\n",
    "\n",
    "        mlflow.sklearn.log_model(model, name + \"_model\")\n",
    "        print(f\"{name} → Accuracy: {acc:.2f}, Precision: {prec:.2f}, Recall: {rec:.2f}, F1: {f1:.2f}\")\n",
    "\n",
    "        if f1 > best_f1:\n",
    "            best_f1 = f1\n",
    "            best_model = model\n",
    "            best_name = name\n",
    "\n",
    "# --------------------------------------------\n",
    "# STEP 6: Save the best model\n",
    "# --------------------------------------------\n",
    "if best_model:\n",
    "    print(f\"\\n✅ Best model: {best_name} | Features: {best_model.n_features_in_}\")\n",
    "    joblib.dump(best_model, '../models/best_model.pkl')\n",
    "    print(\"✅ Saved to ../models/best_model.pkl\")\n"
   ]
  }
 ],
 "metadata": {
  "kernelspec": {
   "display_name": "venv",
   "language": "python",
   "name": "python3"
  },
  "language_info": {
   "codemirror_mode": {
    "name": "ipython",
    "version": 3
   },
   "file_extension": ".py",
   "mimetype": "text/x-python",
   "name": "python",
   "nbconvert_exporter": "python",
   "pygments_lexer": "ipython3",
   "version": "3.11.0"
  }
 },
 "nbformat": 4,
 "nbformat_minor": 5
}
